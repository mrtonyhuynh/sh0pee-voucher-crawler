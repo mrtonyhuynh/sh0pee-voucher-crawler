{
 "cells": [
  {
   "cell_type": "code",
   "execution_count": 11,
   "metadata": {},
   "outputs": [],
   "source": [
    "import requests\n",
    "import time\n",
    "from json import JSONDecodeError, dumps\n",
    "from jinja2 import Template\n",
    "# import pandas as pd\n"
   ]
  },
  {
   "cell_type": "code",
   "execution_count": 12,
   "metadata": {},
   "outputs": [],
   "source": [
    "src_endpoint = [\"https://api.blog\", \"giamgia.vn/api/b/\", \"Voucher/home-shopee\"]\n",
    "endpoint_url = \"\".join(src_endpoint)\n"
   ]
  },
  {
   "cell_type": "code",
   "execution_count": 13,
   "metadata": {},
   "outputs": [],
   "source": [
    "def get_template():\n",
    "    with open(\"template.jinja\", 'r', encoding='UTF-8') as file:\n",
    "        return file.read()\n",
    "\n",
    "\n",
    "def export_snippet(content):\n",
    "    with open(\"_snippet.txt\", 'w', encoding='UTF-8') as file:\n",
    "        file.write(content)\n"
   ]
  },
  {
   "cell_type": "code",
   "execution_count": 14,
   "metadata": {},
   "outputs": [],
   "source": [
    "def start():\n",
    "    print(\" >>>>> START CRAWLER <<<<<\\n\\n\")\n",
    "    page = 1\n",
    "    delaySeconds = 1\n",
    "    couponCodes = []\n",
    "\n",
    "    while True:\n",
    "        resp = requests.get(endpoint_url,\n",
    "                            params={\"page\": page},\n",
    "                            headers={\n",
    "                                \"HTTP_HOST\": \"Mozilla/5.0 (Windows NT 10.0; Win64; x64) AppleWebKit/537.36 (KHTML, like Gecko) Chrome/107.0.0.0 Safari/537.36 OPR/93.0.0.0\"}\n",
    "                            )\n",
    "        try:\n",
    "            resp_dict = resp.json()\n",
    "        except JSONDecodeError:\n",
    "            print('Response could not be serialized')\n",
    "\n",
    "        # Pretty print the json response\n",
    "        # pretty = dumps(resp_dict, indent=4)\n",
    "        # print(pretty)\n",
    "\n",
    "        # Print the response as a dataframe\n",
    "        # df = pd.DataFrame(resp_dict.get('data'))\n",
    "        # print(df)\n",
    "\n",
    "        items = resp_dict.get('data')\n",
    "        if len(items) == 0:\n",
    "            break\n",
    "\n",
    "        for item in items:\n",
    "            couponCode = item.get('couponCode')\n",
    "            if couponCode != \"\":\n",
    "                couponCodes.append(couponCode)\n",
    "\n",
    "        page = resp_dict.get('page') + 1\n",
    "        time.sleep(delaySeconds)\n",
    "\n",
    "    # print(type(resp_dict))\n",
    "    print('Coupon Codes: ', couponCodes)\n",
    "    template = get_template()\n",
    "    jinja2_template = Template(template)\n",
    "\n",
    "    template_data = {}\n",
    "    template_data['couponCodes'] = dumps(couponCodes)\n",
    "    content = jinja2_template.render(**template_data)\n",
    "\n",
    "    export_snippet(content)\n",
    "    print(\"\\n\\n>>>> Success! Please check the `_snippet.txt` file.\")\n"
   ]
  },
  {
   "cell_type": "code",
   "execution_count": 15,
   "metadata": {},
   "outputs": [
    {
     "name": "stdout",
     "output_type": "stream",
     "text": [
      " >>>>> START CRAWLER <<<<<\n",
      "\n",
      "\n",
      "Coupon Codes:  ['P7OXGOYAFH', 'TCBTRAGOP', 'COSLUX12A', 'COSLUXRP', 'COSLUX12', 'VISA50', 'T12BANMOI30K', 'STANEWBUYDEC', 'SRDECTT1', 'SRDECTT3', 'SPPDEC12EB10K', '1112GIAM10K0PH', 'SPPP1DEC8K', 'SPPP2DEC8K', 'SPPP1DEC8K', 'SPPP1DEC8K', 'SPPP1DEC8K', 'SPPP1DEC8K', 'SPPP1DEC8K', 'SPPP1DEC8K', 'SPPP1DEC8KEXTRA', 'SPPP1DEC8K', '1212EBVCB25K', '1212EBVFASHION25K', '1212EBVLIFE25K', 'SRDECP115', '1212HUNT1200K', 'AFF12MOI', 'SPPVTQLC12', '1212EBVHOAN15K', 'SPPVTQ12', 'ELPANAPRO', 'ELPANAVIP', '1212HUNT500K', 'ELPANATOP1', 'LIFESHCWG12', 'LIFESBCWG12', '1212EBVHOAN70K', 'SPPVX12', '1212EBVFMCG100K', 'LIFESBC12', 'MKBHUGDEC', '1212EBVMALL50K', 'COSLUX12B', 'LIFESHC12BAU', 'FAPRE12', 'LIFEB12500KD', 'ELDYSON2', 'LIFEBK1260KC', 'ELDYSON1', '1212EBVELHA1000K', 'ELSAM6', 'CCBDAYH1209', '112HOAN40K0PH', 'SPPDEC12EB1M2', 'CCBGG1201B', 'SPPP2DECGMV40K', 'CCBGG1201A', 'CCBGG1201A', 'SPPHOTEL12', 'ELSSA04E', 'ELSSA04E', 'CCBDAYL1209', 'SPPHTLC12', 'SPPSE12', '112MALL50K0PH', 'SPPP1DECGMV40K', 'RWSDP0812GMALL', 'SPPBAY12', 'SPPVXLC12', 'SPPBAYLC12', 'FSV-500185198886928', 'FSV-503210288726016', 'FSV-500185198886928', 'FSV-500185198886928', 'FSV-505509968199680', 'FSV-503210288726016', 'FSV-500185198886928', 'FSV-503210288726016', 'FSV-503210288726016', 'FSV-500185198886928', 'FSV-500185198886928', 'FSV-505509967249408', 'FSV-506202976550912', 'FSV-500185198886928', 'FSV-500185198886960']\n",
      "\n",
      "\n",
      ">>>> Success! Please check the `_snippet.txt` file.\n"
     ]
    }
   ],
   "source": [
    "if __name__ == \"__main__\":\n",
    "    start()"
   ]
  }
 ],
 "metadata": {
  "kernelspec": {
   "display_name": "crawl-bloggiamgia-lzrkdL5P-py3.10",
   "language": "python",
   "name": "python3"
  },
  "language_info": {
   "codemirror_mode": {
    "name": "ipython",
    "version": 3
   },
   "file_extension": ".py",
   "mimetype": "text/x-python",
   "name": "python",
   "nbconvert_exporter": "python",
   "pygments_lexer": "ipython3",
   "version": "3.10.6"
  },
  "orig_nbformat": 4,
  "vscode": {
   "interpreter": {
    "hash": "d7e31201b19a75082139df0df396ee2c46d3f9bfe167b074b62472beeac63d0d"
   }
  }
 },
 "nbformat": 4,
 "nbformat_minor": 2
}
