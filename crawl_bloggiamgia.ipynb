{
 "cells": [
  {
   "cell_type": "code",
   "execution_count": 45,
   "metadata": {},
   "outputs": [],
   "source": [
    "import requests\n",
    "import time\n",
    "from json import JSONDecodeError, dumps\n",
    "from jinja2 import Template\n",
    "# import pandas as pd"
   ]
  },
  {
   "cell_type": "code",
   "execution_count": 46,
   "metadata": {},
   "outputs": [
    {
     "name": "stdout",
     "output_type": "stream",
     "text": [
      "Hello World\n"
     ]
    }
   ],
   "source": [
    "src_endpoint = [\"https://api.blog\", \"giamgia.vn/api/b/\", \"Voucher/home-shopee\"]\n",
    "endpoint_url = \"\".join(src_endpoint)"
   ]
  },
  {
   "cell_type": "code",
   "execution_count": 47,
   "metadata": {},
   "outputs": [],
   "source": [
    "def get_template():\n",
    "    with open(\"template.jinja\", 'r', encoding='UTF-8') as file:\n",
    "        return file.read()\n",
    "def export_snippet(content):\n",
    "    with open(\"_snippet.txt\", 'w', encoding='UTF-8') as file:\n",
    "        file.write(content)"
   ]
  },
  {
   "cell_type": "code",
   "execution_count": 48,
   "metadata": {},
   "outputs": [
    {
     "name": "stdout",
     "output_type": "stream",
     "text": [
      "Coupon Codes:  ['P7OXGOYAFH', 'TCBTRAGOP', 'COSLUXRP', 'COSLUX12A', 'COSLUX12', 'VISA50', 'STANEWBUYDEC', 'T12BANMOI30K', 'SRDECTT1', 'SRDECTT3', '1112GIAM10K0PH', 'SPPDEC12EB10K', '1212EBVCB25K', '1212EBVFASHION25K', '1212EBVLIFE25K', 'SRDECP115', '1212HUNT1200K', 'AFF12MOI', 'SPPVTQLC12', '1212EBVHOAN15K', 'SPPVTQ12', 'ELPANAPRO', 'ELPANAVIP', '1212HUNT500K', 'ELPANATOP1', 'LIFESHCWG12', 'LIFESBCWG12', '1212EBVHOAN70K', 'SPPVX12', 'LIFESBC12', '1212EBVFMCG100K', 'LIFESHC12BAU', 'LIFEB12500KD', '1212EBVMALL50K', 'MKBHUGDEC', 'COSLUX12B', 'LIFEB12500KD', 'ELDYSON2', 'LIFEBK1260KC', 'ELDYSON1', '1212EBVELHA1000K', 'ELSAM6', 'CCBDAYH1209', '112HOAN40K0PH', 'CCBGG1201B', 'CCBGG1201A', 'CCBGG1201A', 'SPPHOTEL12', 'SPPDEC12EB1M2', 'ELSSA04E', 'ELSSA04E', 'CCBDAYL1209', 'SPPHTLC12', 'SPPSE12', 'SPPP1DECGMV40K', 'CCBDAYL1209', 'RWSDP0812GMALL', 'SPPVXLC12', 'SPPBAY12', 'SPPBAYLC12']\n",
      "create `_snippet.txt` success!\n"
     ]
    }
   ],
   "source": [
    "page = 1\n",
    "delaySeconds = 1\n",
    "couponCodes = []\n",
    "\n",
    "while True:  \n",
    "  resp = requests.get(endpoint_url, \n",
    "      params={\"page\": page},\n",
    "      headers = {\"HTTP_HOST\": \"Mozilla/5.0 (Windows NT 10.0; Win64; x64) AppleWebKit/537.36 (KHTML, like Gecko) Chrome/107.0.0.0 Safari/537.36 OPR/93.0.0.0\"}\n",
    "    )\n",
    "  try:\n",
    "    resp_dict = resp.json()\n",
    "  except JSONDecodeError:\n",
    "    print('Response could not be serialized')\n",
    "  \n",
    "  ## Pretty print the json response\n",
    "  # pretty = dumps(resp_dict, indent=4)\n",
    "  # print(pretty)\n",
    "  \n",
    "  # Print the response as a dataframe\n",
    "  # df = pd.DataFrame(resp_dict.get('data'))\n",
    "  # print(df)\n",
    "\n",
    "  items = resp_dict.get('data')\n",
    "  if len(items) == 0:\n",
    "    break\n",
    "  \n",
    "  for item in items:\n",
    "    couponCode = item.get('couponCode')\n",
    "    if couponCode != \"\":\n",
    "      couponCodes.append(couponCode)\n",
    "\n",
    "  page = resp_dict.get('page') + 1\n",
    "  time.sleep(delaySeconds)\n",
    "\n",
    "# print(type(resp_dict))\n",
    "print('Coupon Codes: ', couponCodes)\n",
    "template = get_template()\n",
    "jinja2_template = Template(template)\n",
    "\n",
    "template_data = {}\n",
    "template_data['couponCodes'] = dumps(couponCodes)\n",
    "content = jinja2_template.render(**template_data)\n",
    "\n",
    "export_snippet(content)\n",
    "print(\"create `_snippet.txt` success!\")"
   ]
  }
 ],
 "metadata": {
  "kernelspec": {
   "display_name": "crawl-bloggiamgia-lzrkdL5P-py3.10",
   "language": "python",
   "name": "python3"
  },
  "language_info": {
   "codemirror_mode": {
    "name": "ipython",
    "version": 3
   },
   "file_extension": ".py",
   "mimetype": "text/x-python",
   "name": "python",
   "nbconvert_exporter": "python",
   "pygments_lexer": "ipython3",
   "version": "3.10.6"
  },
  "orig_nbformat": 4,
  "vscode": {
   "interpreter": {
    "hash": "d7e31201b19a75082139df0df396ee2c46d3f9bfe167b074b62472beeac63d0d"
   }
  }
 },
 "nbformat": 4,
 "nbformat_minor": 2
}
